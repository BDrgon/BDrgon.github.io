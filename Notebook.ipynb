{
  "nbformat": 4,
  "nbformat_minor": 0,
  "metadata": {
    "colab": {
      "provenance": [],
      "authorship_tag": "ABX9TyPDxlGDgY4T9O618SMZIZV0",
      "include_colab_link": true
    },
    "kernelspec": {
      "name": "python3",
      "display_name": "Python 3"
    },
    "language_info": {
      "name": "python"
    }
  },
  "cells": [
    {
      "cell_type": "markdown",
      "metadata": {
        "id": "view-in-github",
        "colab_type": "text"
      },
      "source": [
        "<a href=\"https://colab.research.google.com/github/BDrgon/BDrgon.github.io/blob/master/Notebook.ipynb\" target=\"_parent\"><img src=\"https://colab.research.google.com/assets/colab-badge.svg\" alt=\"Open In Colab\"/></a>"
      ]
    },
    {
      "cell_type": "code",
      "execution_count": 53,
      "metadata": {
        "id": "gHHMHNUFwS9v",
        "colab": {
          "base_uri": "https://localhost:8080/",
          "height": 349
        },
        "outputId": "b6e570ae-4545-4cdc-e8a3-43a9f6758fac"
      },
      "outputs": [
        {
          "output_type": "error",
          "ename": "AttributeError",
          "evalue": "module 'numpy' has no attribute 'rand'",
          "traceback": [
            "\u001b[0;31m---------------------------------------------------------------------------\u001b[0m",
            "\u001b[0;31mAttributeError\u001b[0m                            Traceback (most recent call last)",
            "\u001b[0;32m/tmp/ipython-input-1122435559.py\u001b[0m in \u001b[0;36m<cell line: 0>\u001b[0;34m()\u001b[0m\n\u001b[1;32m     28\u001b[0m \u001b[0;31m# Start at midpoint at hour 0 (midnight). Continue dropping until hour 6 (6am) and then rising until hour 18 (6pm)\u001b[0m\u001b[0;34m\u001b[0m\u001b[0;34m\u001b[0m\u001b[0m\n\u001b[1;32m     29\u001b[0m \u001b[0;31m# 24 hour = 360 deg\u001b[0m\u001b[0;34m\u001b[0m\u001b[0;34m\u001b[0m\u001b[0m\n\u001b[0;32m---> 30\u001b[0;31m \u001b[0mdf\u001b[0m\u001b[0;34m[\u001b[0m\u001b[0;34m'systolic(mmHg)'\u001b[0m\u001b[0;34m]\u001b[0m \u001b[0;34m=\u001b[0m \u001b[0;36m132\u001b[0m \u001b[0;34m+\u001b[0m \u001b[0;36m8\u001b[0m \u001b[0;34m*\u001b[0m \u001b[0mnp\u001b[0m\u001b[0;34m.\u001b[0m\u001b[0msin\u001b[0m\u001b[0;34m(\u001b[0m\u001b[0mdf\u001b[0m\u001b[0;34m[\u001b[0m\u001b[0;34m'Hour'\u001b[0m\u001b[0;34m]\u001b[0m\u001b[0;34m*\u001b[0m\u001b[0mnp\u001b[0m\u001b[0;34m.\u001b[0m\u001b[0mpi\u001b[0m\u001b[0;34m*\u001b[0m\u001b[0;36m24\u001b[0m\u001b[0;34m/\u001b[0m\u001b[0;36m360\u001b[0m\u001b[0;34m)\u001b[0m \u001b[0;34m+\u001b[0m \u001b[0mnp\u001b[0m\u001b[0;34m.\u001b[0m\u001b[0mrand\u001b[0m\u001b[0;34m(\u001b[0m\u001b[0;34m)\u001b[0m\u001b[0;34m\u001b[0m\u001b[0;34m\u001b[0m\u001b[0m\n\u001b[0m\u001b[1;32m     31\u001b[0m \u001b[0mdf\u001b[0m\u001b[0;34m[\u001b[0m\u001b[0;34m'diastolic(mmHg)'\u001b[0m\u001b[0;34m]\u001b[0m \u001b[0;34m=\u001b[0m \u001b[0;36m82\u001b[0m \u001b[0;34m+\u001b[0m \u001b[0;36m7\u001b[0m \u001b[0;34m*\u001b[0m \u001b[0mnp\u001b[0m\u001b[0;34m.\u001b[0m\u001b[0msin\u001b[0m\u001b[0;34m(\u001b[0m\u001b[0mdf\u001b[0m\u001b[0;34m[\u001b[0m\u001b[0;34m'Hour'\u001b[0m\u001b[0;34m]\u001b[0m\u001b[0;34m*\u001b[0m\u001b[0mnp\u001b[0m\u001b[0;34m.\u001b[0m\u001b[0mpi\u001b[0m\u001b[0;34m*\u001b[0m\u001b[0;36m24\u001b[0m\u001b[0;34m/\u001b[0m\u001b[0;36m360\u001b[0m\u001b[0;34m)\u001b[0m \u001b[0;34m+\u001b[0m \u001b[0mnp\u001b[0m\u001b[0;34m.\u001b[0m\u001b[0mrand\u001b[0m\u001b[0;34m(\u001b[0m\u001b[0;34m)\u001b[0m\u001b[0;34m\u001b[0m\u001b[0;34m\u001b[0m\u001b[0m\n\u001b[1;32m     32\u001b[0m \u001b[0;34m\u001b[0m\u001b[0m\n",
            "\u001b[0;32m/usr/local/lib/python3.12/dist-packages/numpy/__init__.py\u001b[0m in \u001b[0;36m__getattr__\u001b[0;34m(attr)\u001b[0m\n\u001b[1;32m    408\u001b[0m             \u001b[0;32mreturn\u001b[0m \u001b[0mchar\u001b[0m\u001b[0;34m.\u001b[0m\u001b[0mchararray\u001b[0m\u001b[0;34m\u001b[0m\u001b[0;34m\u001b[0m\u001b[0m\n\u001b[1;32m    409\u001b[0m \u001b[0;34m\u001b[0m\u001b[0m\n\u001b[0;32m--> 410\u001b[0;31m         raise AttributeError(\"module {!r} has no attribute \"\n\u001b[0m\u001b[1;32m    411\u001b[0m                              \"{!r}\".format(__name__, attr))\n\u001b[1;32m    412\u001b[0m \u001b[0;34m\u001b[0m\u001b[0m\n",
            "\u001b[0;31mAttributeError\u001b[0m: module 'numpy' has no attribute 'rand'"
          ]
        }
      ],
      "source": [
        "# 1. Synthetic datasets. 30 days of systolic and diastolic blood pressure\n",
        "# Using blood pressure values from https://www.heart.org/en/health-topics/high-blood-pressure/understanding-blood-pressure-readings\n",
        "# ######## normal        hypertensive (stage 1)\n",
        "# systolic  <120 mmHG     130-139 mmHG\n",
        "# diastolic  <80 mmHG      80-89 mmHG\n",
        "\n",
        "# The above page does not mention age so grabbing another source -> https://www.baptisthealth.com/blog/heart-care/healthy-blood-pressure-by-age-and-gender-chart\n",
        "# This source gives healthy values of 74/124 (diastolic/systolic) for males aged 40-59.\n",
        "# To use this data our hypothetical individual will be male, 55 years old.\n",
        "# For unhealthy (hypertensive) values for this individual, I will take a naive estimate based on the normal/hypertensive values from the first source.\n",
        "# Individual's normal diastolic pressure (74) matches the <80 value, so I estimate his hypertensive diastolic pressure would match the 80-89 range as well.\n",
        "# individual's normal systolic pressure (124) is a little higher than <120, so I estimate his hypertensive systolic pressure is also slightly higher than 130-139, s0 135-144\n",
        "\n",
        "# Other notes/assumptions:\n",
        "# - systolic and diastolic pressures track eachother and will reach their local minimums and maximum at the same time\n",
        "# - The oscillation between normal and hypertensive is consistent, reaching approximately the same min/max values in the same period each time.\n",
        "\n",
        "# Dataframe for synthetic data (referencing documentation directly for this step https://pandas.pydata.org/docs/reference/api/pandas.DataFrame.html):\n",
        "# Start with time column - Going with hourly resolution for our time series.\n",
        "import numpy as np\n",
        "import pandas as pd\n",
        "hours = range(0, 30*24, 1)\n",
        "df = pd.DataFrame(np.array(hours),columns=['Hour'])\n",
        "# Use trig oscillators for estimate\n",
        "# Systolic: max ~140, min ~124, magnitude = 8 mmHg, centered on 132\n",
        "# Diastolic: max ~88, min ~74, magnitude = 7 mmHg, centered on 82\n",
        "# Oscillation period: No clue, going with a daily oscillation pattern where pressure drops during sleep\n",
        "# Start at midpoint at hour 0 (midnight). Continue dropping until hour 6 (6am) and then rising until hour 18 (6pm)\n",
        "# 24 hour = 360 deg\n",
        "df['systolic(mmHg)'] = 132 + 8 * np.sin(df['Hour']*np.pi*24/360)\n",
        "df['diastolic(mmHg)'] = 82 + 7 * np.sin(df['Hour']*np.pi*24/360)\n",
        "#df.head(24)\n",
        "df.plot(x='Hour')\n",
        "#Maybe we want some variance here but leaving as a perfect oscillator for now\n",
        "\n"
      ]
    },
    {
      "cell_type": "code",
      "source": [],
      "metadata": {
        "id": "mvcCo0rt_07M"
      },
      "execution_count": null,
      "outputs": []
    }
  ]
}